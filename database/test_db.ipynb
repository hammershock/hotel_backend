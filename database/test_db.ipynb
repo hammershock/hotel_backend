{
 "cells": [
  {
   "cell_type": "code",
   "execution_count": 2,
   "outputs": [],
   "source": [
    "import account, record, room\n",
    "from roles import *"
   ],
   "metadata": {
    "collapsed": false,
    "ExecuteTime": {
     "end_time": "2023-12-06T05:26:17.998655586Z",
     "start_time": "2023-12-06T05:26:17.996567050Z"
    }
   },
   "id": "5ddeb919d8dfe94b"
  },
  {
   "cell_type": "code",
   "execution_count": 8,
   "outputs": [
    {
     "name": "stdout",
     "output_type": "stream",
     "text": [
      "SELECT * FROM account\n"
     ]
    },
    {
     "data": {
      "text/plain": "[(1, '111', '111', '客户', '666', '233'),\n (2, '222', '222', '管理员', '777', '724'),\n (3, '333', '333', '前台', '999', '634')]"
     },
     "execution_count": 8,
     "metadata": {},
     "output_type": "execute_result"
    }
   ],
   "source": [
    "account.query()"
   ],
   "metadata": {
    "collapsed": false,
    "ExecuteTime": {
     "end_time": "2023-12-06T05:56:31.185270410Z",
     "start_time": "2023-12-06T05:56:31.138751479Z"
    }
   },
   "id": "861a3c8206ae1050"
  },
  {
   "cell_type": "code",
   "execution_count": 9,
   "outputs": [
    {
     "name": "stdout",
     "output_type": "stream",
     "text": [
      "SELECT * FROM account WHERE username = ? AND role = ?\n"
     ]
    },
    {
     "data": {
      "text/plain": "[(1, '111', '111', '客户', '666', '233')]"
     },
     "execution_count": 9,
     "metadata": {},
     "output_type": "execute_result"
    }
   ],
   "source": [
    "account.query(username='111', role='客户')"
   ],
   "metadata": {
    "collapsed": false,
    "ExecuteTime": {
     "end_time": "2023-12-06T05:56:31.930420666Z",
     "start_time": "2023-12-06T05:56:31.926241579Z"
    }
   },
   "id": "46b853f07725fe8a"
  },
  {
   "cell_type": "code",
   "execution_count": 18,
   "outputs": [
    {
     "data": {
      "text/plain": "[(111, 1, '大床房', 1, 0.0, 30.0, 1, 20, 'medium', 'cool')]"
     },
     "execution_count": 18,
     "metadata": {},
     "output_type": "execute_result"
    }
   ],
   "source": [
    "room.query()"
   ],
   "metadata": {
    "collapsed": false,
    "ExecuteTime": {
     "end_time": "2023-12-06T06:20:35.245040664Z",
     "start_time": "2023-12-06T06:20:35.240335264Z"
    }
   },
   "id": "64ee21e897bf497f"
  },
  {
   "cell_type": "code",
   "execution_count": null,
   "outputs": [],
   "source": [],
   "metadata": {
    "collapsed": false
   },
   "id": "fe543f7a511e4daa"
  }
 ],
 "metadata": {
  "kernelspec": {
   "display_name": "Python 3",
   "language": "python",
   "name": "python3"
  },
  "language_info": {
   "codemirror_mode": {
    "name": "ipython",
    "version": 2
   },
   "file_extension": ".py",
   "mimetype": "text/x-python",
   "name": "python",
   "nbconvert_exporter": "python",
   "pygments_lexer": "ipython2",
   "version": "2.7.6"
  }
 },
 "nbformat": 4,
 "nbformat_minor": 5
}
